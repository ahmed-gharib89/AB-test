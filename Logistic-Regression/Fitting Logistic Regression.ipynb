{
 "cells": [
  {
   "cell_type": "markdown",
   "metadata": {},
   "source": [
    "### Fitting Logistic Regression\n",
    "\n",
    "In this first notebook, you will be fitting a logistic regression model to a dataset where we would like to predict if a transaction is fraud or not.\n",
    "\n",
    "To get started let's read in the libraries and take a quick look at the dataset."
   ]
  },
  {
   "cell_type": "code",
   "execution_count": 14,
   "metadata": {},
   "outputs": [
    {
     "output_type": "execute_result",
     "data": {
      "text/plain": [
       "   transaction_id   duration      day  fraud\n",
       "0           28891  21.302600  weekend  False\n",
       "1           61629  22.932765  weekend  False\n",
       "2           53707  32.694992  weekday  False\n",
       "3           47812  32.784252  weekend  False\n",
       "4           43455  17.756828  weekend  False"
      ],
      "text/html": "<div>\n<style scoped>\n    .dataframe tbody tr th:only-of-type {\n        vertical-align: middle;\n    }\n\n    .dataframe tbody tr th {\n        vertical-align: top;\n    }\n\n    .dataframe thead th {\n        text-align: right;\n    }\n</style>\n<table border=\"1\" class=\"dataframe\">\n  <thead>\n    <tr style=\"text-align: right;\">\n      <th></th>\n      <th>transaction_id</th>\n      <th>duration</th>\n      <th>day</th>\n      <th>fraud</th>\n    </tr>\n  </thead>\n  <tbody>\n    <tr>\n      <th>0</th>\n      <td>28891</td>\n      <td>21.302600</td>\n      <td>weekend</td>\n      <td>False</td>\n    </tr>\n    <tr>\n      <th>1</th>\n      <td>61629</td>\n      <td>22.932765</td>\n      <td>weekend</td>\n      <td>False</td>\n    </tr>\n    <tr>\n      <th>2</th>\n      <td>53707</td>\n      <td>32.694992</td>\n      <td>weekday</td>\n      <td>False</td>\n    </tr>\n    <tr>\n      <th>3</th>\n      <td>47812</td>\n      <td>32.784252</td>\n      <td>weekend</td>\n      <td>False</td>\n    </tr>\n    <tr>\n      <th>4</th>\n      <td>43455</td>\n      <td>17.756828</td>\n      <td>weekend</td>\n      <td>False</td>\n    </tr>\n  </tbody>\n</table>\n</div>"
     },
     "metadata": {},
     "execution_count": 14
    }
   ],
   "source": [
    "import numpy as np\n",
    "import pandas as pd\n",
    "import statsmodels.api as sm\n",
    "\n",
    "\n",
    "df = pd.read_csv('./fraud_dataset.csv')\n",
    "df.head()"
   ]
  },
  {
   "cell_type": "markdown",
   "metadata": {},
   "source": [
    "`1.` As you can see, there are two columns that need to be changed to dummy variables.  Replace each of the current columns to the dummy version.  Use the 1 for `weekday` and `True`, and 0 otherwise.  Use the first quiz to answer a few questions about the dataset."
   ]
  },
  {
   "cell_type": "code",
   "execution_count": 15,
   "metadata": {},
   "outputs": [
    {
     "output_type": "execute_result",
     "data": {
      "text/plain": [
       "      transaction_id  duration      day  fraud\n",
       "15             32057  4.909117  weekday   True\n",
       "80             33212  3.931617  weekday   True\n",
       "134            24194  3.273424  weekend   True\n",
       "179            29647  2.433195  weekend   True\n",
       "193            33493  3.679496  weekday   True\n",
       "...              ...       ...      ...    ...\n",
       "8489           74766  7.426604  weekday   True\n",
       "8524           19583  6.960134  weekday   True\n",
       "8547           20596  2.935236  weekday   True\n",
       "8568           21571  3.627393  weekday   True\n",
       "8754           81230  7.876531  weekday   True\n",
       "\n",
       "[107 rows x 4 columns]"
      ],
      "text/html": "<div>\n<style scoped>\n    .dataframe tbody tr th:only-of-type {\n        vertical-align: middle;\n    }\n\n    .dataframe tbody tr th {\n        vertical-align: top;\n    }\n\n    .dataframe thead th {\n        text-align: right;\n    }\n</style>\n<table border=\"1\" class=\"dataframe\">\n  <thead>\n    <tr style=\"text-align: right;\">\n      <th></th>\n      <th>transaction_id</th>\n      <th>duration</th>\n      <th>day</th>\n      <th>fraud</th>\n    </tr>\n  </thead>\n  <tbody>\n    <tr>\n      <th>15</th>\n      <td>32057</td>\n      <td>4.909117</td>\n      <td>weekday</td>\n      <td>True</td>\n    </tr>\n    <tr>\n      <th>80</th>\n      <td>33212</td>\n      <td>3.931617</td>\n      <td>weekday</td>\n      <td>True</td>\n    </tr>\n    <tr>\n      <th>134</th>\n      <td>24194</td>\n      <td>3.273424</td>\n      <td>weekend</td>\n      <td>True</td>\n    </tr>\n    <tr>\n      <th>179</th>\n      <td>29647</td>\n      <td>2.433195</td>\n      <td>weekend</td>\n      <td>True</td>\n    </tr>\n    <tr>\n      <th>193</th>\n      <td>33493</td>\n      <td>3.679496</td>\n      <td>weekday</td>\n      <td>True</td>\n    </tr>\n    <tr>\n      <th>...</th>\n      <td>...</td>\n      <td>...</td>\n      <td>...</td>\n      <td>...</td>\n    </tr>\n    <tr>\n      <th>8489</th>\n      <td>74766</td>\n      <td>7.426604</td>\n      <td>weekday</td>\n      <td>True</td>\n    </tr>\n    <tr>\n      <th>8524</th>\n      <td>19583</td>\n      <td>6.960134</td>\n      <td>weekday</td>\n      <td>True</td>\n    </tr>\n    <tr>\n      <th>8547</th>\n      <td>20596</td>\n      <td>2.935236</td>\n      <td>weekday</td>\n      <td>True</td>\n    </tr>\n    <tr>\n      <th>8568</th>\n      <td>21571</td>\n      <td>3.627393</td>\n      <td>weekday</td>\n      <td>True</td>\n    </tr>\n    <tr>\n      <th>8754</th>\n      <td>81230</td>\n      <td>7.876531</td>\n      <td>weekday</td>\n      <td>True</td>\n    </tr>\n  </tbody>\n</table>\n<p>107 rows × 4 columns</p>\n</div>"
     },
     "metadata": {},
     "execution_count": 15
    }
   ],
   "source": [
    "df[df.fraud==True]"
   ]
  },
  {
   "cell_type": "code",
   "execution_count": 18,
   "metadata": {},
   "outputs": [
    {
     "output_type": "execute_result",
     "data": {
      "text/plain": [
       "      transaction_id   duration  day  fraud\n",
       "312            90129  28.763659    1      0\n",
       "1329           62790  25.228503    1      0\n",
       "999            62590  31.974642    0      0\n",
       "5089           68936  29.095207    1      0\n",
       "1700           32465  30.514439    0      0\n",
       "728            80822  29.208313    0      0\n",
       "5887           48214  39.234274    1      0\n",
       "2362           22029  36.193698    0      0\n",
       "1456           89636  38.471116    0      0\n",
       "336            73563  23.493622    0      0"
      ],
      "text/html": "<div>\n<style scoped>\n    .dataframe tbody tr th:only-of-type {\n        vertical-align: middle;\n    }\n\n    .dataframe tbody tr th {\n        vertical-align: top;\n    }\n\n    .dataframe thead th {\n        text-align: right;\n    }\n</style>\n<table border=\"1\" class=\"dataframe\">\n  <thead>\n    <tr style=\"text-align: right;\">\n      <th></th>\n      <th>transaction_id</th>\n      <th>duration</th>\n      <th>day</th>\n      <th>fraud</th>\n    </tr>\n  </thead>\n  <tbody>\n    <tr>\n      <th>312</th>\n      <td>90129</td>\n      <td>28.763659</td>\n      <td>1</td>\n      <td>0</td>\n    </tr>\n    <tr>\n      <th>1329</th>\n      <td>62790</td>\n      <td>25.228503</td>\n      <td>1</td>\n      <td>0</td>\n    </tr>\n    <tr>\n      <th>999</th>\n      <td>62590</td>\n      <td>31.974642</td>\n      <td>0</td>\n      <td>0</td>\n    </tr>\n    <tr>\n      <th>5089</th>\n      <td>68936</td>\n      <td>29.095207</td>\n      <td>1</td>\n      <td>0</td>\n    </tr>\n    <tr>\n      <th>1700</th>\n      <td>32465</td>\n      <td>30.514439</td>\n      <td>0</td>\n      <td>0</td>\n    </tr>\n    <tr>\n      <th>728</th>\n      <td>80822</td>\n      <td>29.208313</td>\n      <td>0</td>\n      <td>0</td>\n    </tr>\n    <tr>\n      <th>5887</th>\n      <td>48214</td>\n      <td>39.234274</td>\n      <td>1</td>\n      <td>0</td>\n    </tr>\n    <tr>\n      <th>2362</th>\n      <td>22029</td>\n      <td>36.193698</td>\n      <td>0</td>\n      <td>0</td>\n    </tr>\n    <tr>\n      <th>1456</th>\n      <td>89636</td>\n      <td>38.471116</td>\n      <td>0</td>\n      <td>0</td>\n    </tr>\n    <tr>\n      <th>336</th>\n      <td>73563</td>\n      <td>23.493622</td>\n      <td>0</td>\n      <td>0</td>\n    </tr>\n  </tbody>\n</table>\n</div>"
     },
     "metadata": {},
     "execution_count": 18
    }
   ],
   "source": [
    "df['fraud'] = df.fraud.apply(lambda x: 1 if x else 0)\n",
    "df['day'] = df.day.apply(lambda x: 1 if x == 'weekday' else 0)\n",
    "df.sample(10)"
   ]
  },
  {
   "cell_type": "code",
   "execution_count": 22,
   "metadata": {},
   "outputs": [
    {
     "output_type": "execute_result",
     "data": {
      "text/plain": [
       "0.012168770612987604"
      ]
     },
     "metadata": {},
     "execution_count": 22
    }
   ],
   "source": [
    "(df.fraud == 1).sum() / df.shape[0]"
   ]
  },
  {
   "cell_type": "code",
   "execution_count": 23,
   "metadata": {},
   "outputs": [
    {
     "output_type": "execute_result",
     "data": {
      "text/plain": [
       "0.3452746502900034"
      ]
     },
     "metadata": {},
     "execution_count": 23
    }
   ],
   "source": [
    "(df.day == 1).sum() / df.shape[0]"
   ]
  },
  {
   "cell_type": "code",
   "execution_count": 24,
   "metadata": {},
   "outputs": [
    {
     "output_type": "execute_result",
     "data": {
      "text/plain": [
       "        duration\n",
       "fraud           \n",
       "0      30.013583\n",
       "1       4.624247"
      ],
      "text/html": "<div>\n<style scoped>\n    .dataframe tbody tr th:only-of-type {\n        vertical-align: middle;\n    }\n\n    .dataframe tbody tr th {\n        vertical-align: top;\n    }\n\n    .dataframe thead th {\n        text-align: right;\n    }\n</style>\n<table border=\"1\" class=\"dataframe\">\n  <thead>\n    <tr style=\"text-align: right;\">\n      <th></th>\n      <th>duration</th>\n    </tr>\n    <tr>\n      <th>fraud</th>\n      <th></th>\n    </tr>\n  </thead>\n  <tbody>\n    <tr>\n      <th>0</th>\n      <td>30.013583</td>\n    </tr>\n    <tr>\n      <th>1</th>\n      <td>4.624247</td>\n    </tr>\n  </tbody>\n</table>\n</div>"
     },
     "metadata": {},
     "execution_count": 24
    }
   ],
   "source": [
    "df[['duration', 'fraud']].groupby('fraud').mean()"
   ]
  },
  {
   "cell_type": "markdown",
   "metadata": {},
   "source": [
    "`2.` Now that you have dummy variables, fit a logistic regression model to predict if a transaction is fraud using both day and duration.  Don't forget an intercept!  Use the second quiz below to assure you fit the model correctly."
   ]
  },
  {
   "cell_type": "code",
   "execution_count": 20,
   "metadata": {},
   "outputs": [],
   "source": [
    "df['intercept'] = 1\n",
    "\n",
    "y = df.fraud\n",
    "X = df[['intercept', 'duration', 'day']]"
   ]
  },
  {
   "cell_type": "code",
   "execution_count": 21,
   "metadata": {},
   "outputs": [
    {
     "output_type": "stream",
     "name": "stdout",
     "text": [
      "Optimization terminated successfully.\n         Current function value: 0.002411\n         Iterations 16\n"
     ]
    },
    {
     "output_type": "execute_result",
     "data": {
      "text/plain": [
       "<class 'statsmodels.iolib.summary.Summary'>\n",
       "\"\"\"\n",
       "                           Logit Regression Results                           \n",
       "==============================================================================\n",
       "Dep. Variable:                  fraud   No. Observations:                 8793\n",
       "Model:                          Logit   Df Residuals:                     8790\n",
       "Method:                           MLE   Df Model:                            2\n",
       "Date:                Wed, 07 Oct 2020   Pseudo R-squ.:                  0.9633\n",
       "Time:                        18:30:15   Log-Likelihood:                -21.200\n",
       "converged:                       True   LL-Null:                       -578.10\n",
       "Covariance Type:            nonrobust   LLR p-value:                1.390e-242\n",
       "==============================================================================\n",
       "                 coef    std err          z      P>|z|      [0.025      0.975]\n",
       "------------------------------------------------------------------------------\n",
       "intercept      9.8709      1.944      5.078      0.000       6.061      13.681\n",
       "duration      -1.4637      0.290     -5.039      0.000      -2.033      -0.894\n",
       "day            2.5465      0.904      2.816      0.005       0.774       4.319\n",
       "==============================================================================\n",
       "\n",
       "Possibly complete quasi-separation: A fraction 0.98 of observations can be\n",
       "perfectly predicted. This might indicate that there is complete\n",
       "quasi-separation. In this case some parameters will not be identified.\n",
       "\"\"\""
      ],
      "text/html": "<table class=\"simpletable\">\n<caption>Logit Regression Results</caption>\n<tr>\n  <th>Dep. Variable:</th>         <td>fraud</td>      <th>  No. Observations:  </th>   <td>  8793</td>  \n</tr>\n<tr>\n  <th>Model:</th>                 <td>Logit</td>      <th>  Df Residuals:      </th>   <td>  8790</td>  \n</tr>\n<tr>\n  <th>Method:</th>                 <td>MLE</td>       <th>  Df Model:          </th>   <td>     2</td>  \n</tr>\n<tr>\n  <th>Date:</th>            <td>Wed, 07 Oct 2020</td> <th>  Pseudo R-squ.:     </th>   <td>0.9633</td>  \n</tr>\n<tr>\n  <th>Time:</th>                <td>18:30:15</td>     <th>  Log-Likelihood:    </th>  <td> -21.200</td> \n</tr>\n<tr>\n  <th>converged:</th>             <td>True</td>       <th>  LL-Null:           </th>  <td> -578.10</td> \n</tr>\n<tr>\n  <th>Covariance Type:</th>     <td>nonrobust</td>    <th>  LLR p-value:       </th> <td>1.390e-242</td>\n</tr>\n</table>\n<table class=\"simpletable\">\n<tr>\n      <td></td>         <th>coef</th>     <th>std err</th>      <th>z</th>      <th>P>|z|</th>  <th>[0.025</th>    <th>0.975]</th>  \n</tr>\n<tr>\n  <th>intercept</th> <td>    9.8709</td> <td>    1.944</td> <td>    5.078</td> <td> 0.000</td> <td>    6.061</td> <td>   13.681</td>\n</tr>\n<tr>\n  <th>duration</th>  <td>   -1.4637</td> <td>    0.290</td> <td>   -5.039</td> <td> 0.000</td> <td>   -2.033</td> <td>   -0.894</td>\n</tr>\n<tr>\n  <th>day</th>       <td>    2.5465</td> <td>    0.904</td> <td>    2.816</td> <td> 0.005</td> <td>    0.774</td> <td>    4.319</td>\n</tr>\n</table><br/><br/>Possibly complete quasi-separation: A fraction 0.98 of observations can be<br/>perfectly predicted. This might indicate that there is complete<br/>quasi-separation. In this case some parameters will not be identified."
     },
     "metadata": {},
     "execution_count": 21
    }
   ],
   "source": [
    "lm = sm.Logit(y, X)\n",
    "res = lm.fit()\n",
    "res.summary()"
   ]
  },
  {
   "cell_type": "code",
   "execution_count": null,
   "metadata": {},
   "outputs": [],
   "source": []
  }
 ],
 "metadata": {
  "kernelspec": {
   "name": "Python 3.8.5 64-bit ('dapnd': conda)",
   "display_name": "Python 3.8.5 64-bit ('dapnd': conda)",
   "metadata": {
    "interpreter": {
     "hash": "9cfffba9d48d13881e345cb7870696995bdf2730e1eab56af49c1dad99f0404e"
    }
   }
  },
  "language_info": {
   "codemirror_mode": {
    "name": "ipython",
    "version": 3
   },
   "file_extension": ".py",
   "mimetype": "text/x-python",
   "name": "python",
   "nbconvert_exporter": "python",
   "pygments_lexer": "ipython3",
   "version": "3.8.5-final"
  }
 },
 "nbformat": 4,
 "nbformat_minor": 2
}